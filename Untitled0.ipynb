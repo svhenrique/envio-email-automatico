{
  "nbformat": 4,
  "nbformat_minor": 0,
  "metadata": {
    "colab": {
      "name": "Untitled0.ipynb",
      "provenance": [],
      "authorship_tag": "ABX9TyNMM4/EjM4OwV3ZC+8EWZXa",
      "include_colab_link": true
    },
    "kernelspec": {
      "name": "python3",
      "display_name": "Python 3"
    }
  },
  "cells": [
    {
      "cell_type": "markdown",
      "metadata": {
        "id": "view-in-github",
        "colab_type": "text"
      },
      "source": [
        "<a href=\"https://colab.research.google.com/github/svhenrique/envio-email-automatico/blob/master/Untitled0.ipynb\" target=\"_parent\"><img src=\"https://colab.research.google.com/assets/colab-badge.svg\" alt=\"Open In Colab\"/></a>"
      ]
    },
    {
      "cell_type": "code",
      "metadata": {
        "id": "5hZ4QnFd5Fo_",
        "colab_type": "code",
        "colab": {}
      },
      "source": [
        "# Importar as bibliotecas que usaremos\n",
        "import pandas as pd"
      ],
      "execution_count": null,
      "outputs": []
    },
    {
      "cell_type": "code",
      "metadata": {
        "id": "Fs7wEDqtZus7",
        "colab_type": "code",
        "colab": {}
      },
      "source": [
        "dados = pd.read_csv()"
      ],
      "execution_count": null,
      "outputs": []
    }
  ]
}